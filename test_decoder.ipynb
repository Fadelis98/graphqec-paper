{
 "cells": [
  {
   "cell_type": "code",
   "execution_count": null,
   "metadata": {},
   "outputs": [
    {
     "name": "stderr",
     "output_type": "stream",
     "text": [
      "/home/hugengyuan/miniconda3/envs/qecnew/lib/python3.11/site-packages/tqdm/auto.py:21: TqdmWarning: IProgress not found. Please update jupyter and ipywidgets. See https://ipywidgets.readthedocs.io/en/stable/user_install.html\n",
      "  from .autonotebook import tqdm as notebook_tqdm\n"
     ]
    },
    {
     "name": "stdout",
     "output_type": "stream",
     "text": [
      "matched keys: 631, not matched keys: 0\n",
      "not matched keys: []\n"
     ]
    }
   ],
   "source": [
    "import torch\n",
    "import numpy as np\n",
    "from graphqec.qecc import get_code\n",
    "from graphqec.decoder.nn.train_utils import build_neural_decoder\n",
    "\n",
    "example_config = {\n",
    "    \"code\": {\n",
    "        \"code_type\": \"TriangleColorCode\",\n",
    "        \"distance\": 9\n",
    "    },\n",
    "    \"decoder\": {\n",
    "        \"name\": \"GraphLinearAttnDecoderV2A\",\n",
    "        \"encoder_dim\": 192,\n",
    "        \"decoder_dim\": 256,\n",
    "        \"readout_dim\": 192,\n",
    "        \"num_encoder_layers\": 5,\n",
    "        \"num_decoder_layers\": 4,\n",
    "        \"num_readout_layers\": 16,\n",
    "        \"num_heads\": 8,\n",
    "        \"scatter_activation\": \"tanh\",\n",
    "        \"scatter_fn\": \"mul\",\n",
    "        \"ffn_dim_multiplier\": 3.0,\n",
    "        \"multiple_of\": 32,\n",
    "        \"norm_eps\": 1e-05,\n",
    "        \"chkpt\": \"/home/hugengyuan/projects/graphqec/tmp/results/TCd9/pretrain_latest\" # subsitute with your own checkpoint path\n",
    "    },\n",
    "}\n",
    "\n",
    "test_code = get_code(\n",
    "    name=example_config['code'][\"code_type\"], \n",
    "    **example_config['code']\n",
    ")\n",
    "\n",
    "graphqec_decoder = build_neural_decoder(\n",
    "    test_code.get_tanner_graph().to(torch.device(\"cuda\")),\n",
    "    example_config['decoder']\n",
    "    ).to(device=\"cuda\", dtype=torch.bfloat16) # run with bf16 is much faster and almost the same accurate as fp32"
   ]
  },
  {
   "cell_type": "code",
   "execution_count": 2,
   "metadata": {},
   "outputs": [
    {
     "name": "stdout",
     "output_type": "stream",
     "text": [
      "0.951\n"
     ]
    }
   ],
   "source": [
    "# num_cycle begins with 0, so 8 cycles means 9 rounds(one init round + 8 cycle rounds)\n",
    "sampler = test_code.get_dem(num_cycle=8,physical_error_rate=0.005).compile_sampler() \n",
    "syndromes, obs_flips, _ = sampler.sample(10000)\n",
    "preds = graphqec_decoder.decode(syndromes, batch_size=100)\n",
    "\n",
    "print(np.mean(preds==obs_flips))"
   ]
  }
 ],
 "metadata": {
  "kernelspec": {
   "display_name": "qecnew",
   "language": "python",
   "name": "python3"
  },
  "language_info": {
   "codemirror_mode": {
    "name": "ipython",
    "version": 3
   },
   "file_extension": ".py",
   "mimetype": "text/x-python",
   "name": "python",
   "nbconvert_exporter": "python",
   "pygments_lexer": "ipython3",
   "version": "3.11.11"
  }
 },
 "nbformat": 4,
 "nbformat_minor": 2
}
